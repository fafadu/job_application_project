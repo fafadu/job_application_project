{
 "cells": [
  {
   "cell_type": "code",
   "execution_count": 1,
   "id": "b261a17f-5970-4888-9931-bf02014ddce3",
   "metadata": {},
   "outputs": [
    {
     "name": "stdin",
     "output_type": "stream",
     "text": [
      "Choose Job Description Source：(1: CSV, 2: Manual)：  2\n",
      "Role:  text\n",
      "Company:  text\n",
      "Job Description:  text\n"
     ]
    },
    {
     "name": "stdout",
     "output_type": "stream",
     "text": [
      "✅ Cover Letter saved as:- word_file, pdf_file\n",
      "✅ Job application saved: text at text (Applied)\n",
      "\n",
      "===  Cover Letter ===\n",
      "\n",
      "I have attached my resume and cover letter for your review. \n"
     ]
    }
   ],
   "source": [
    "## This is main.ipynb\n",
    "import sys\n",
    "sys.path.append(\"./src\")  # Let Python find the src module\n",
    "from cover_letter import generate_cover_letter\n",
    "from skill_matching import extract_match_skillset, extract_relevant_experiences\n",
    "from experience_data import experiences\n",
    "from src.job_input import get_job_description, save_manual_application\n",
    "from save_cover_letter import save_cover_letter\n",
    "\n",
    "# Choose Job Description Source\n",
    "jdtext, role, company= get_job_description()\n",
    "\n",
    "# \n",
    "if jdtext and role and company :\n",
    "    cover_letter = generate_cover_letter(jdtext, role, company)\n",
    "    save_cover_letter(role, company, cover_letter)\n",
    "    save_manual_application( role, company,jdtext)\n",
    "    print(\"\\n===  Cover Letter ===\\n\")\n",
    "    \n",
    "    \n",
    "else:\n",
    "    print(\"Invalid input, failed to create Cover Letter\")\n",
    "\n",
    "cover_letter = generate_cover_letter(jdtext, role, company)\n",
    "print(\"I have attached my resume and cover letter for your review. \")\n",
    "\n",
    "\n",
    "emailtext = f\"\"\"\n",
    "Application for {role} within {company}\n",
    "Dear Hiring Manager,\n",
    "\n",
    "I am writing to express my interest in the {role} position within {company}. I am a recent Master of IT graduate in Data Analytics from Griffith University with hands-on experience in as your organization requires.\n",
    "\n",
    "I have attached my resume and cover letter for your review.\n",
    "\n",
    "Thank you for considering my application, and I look forward to contributing to your organization.\n",
    "\n",
    "Kind regards,  \n",
    "\"\"\"\n",
    "# print(cover_letter)\n",
    "# print(emailtext)"
   ]
  },
  {
   "cell_type": "code",
   "execution_count": null,
   "id": "e6a9c411-d3d1-4efe-a81e-9bff13909da1",
   "metadata": {},
   "outputs": [],
   "source": []
  },
  {
   "cell_type": "code",
   "execution_count": null,
   "id": "0acec7d1-bbee-4ae2-8e73-e645478f0828",
   "metadata": {},
   "outputs": [],
   "source": []
  }
 ],
 "metadata": {
  "kernelspec": {
   "display_name": "Python 3 (ipykernel)",
   "language": "python",
   "name": "python3"
  },
  "language_info": {
   "codemirror_mode": {
    "name": "ipython",
    "version": 3
   },
   "file_extension": ".py",
   "mimetype": "text/x-python",
   "name": "python",
   "nbconvert_exporter": "python",
   "pygments_lexer": "ipython3",
   "version": "3.11.11"
  }
 },
 "nbformat": 4,
 "nbformat_minor": 5
}
