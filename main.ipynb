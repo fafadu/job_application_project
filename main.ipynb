{
 "cells": [
  {
   "cell_type": "code",
   "execution_count": 1,
   "id": "b261a17f-5970-4888-9931-bf02014ddce3",
   "metadata": {},
   "outputs": [
    {
     "name": "stdin",
     "output_type": "stream",
     "text": [
      "Choose Job Description Source：(1: CSV, 2: Manual)：  2\n",
      "Role:  Service Parts Analyst\n",
      "Company:  John Deere\n",
      "Job Description:  The Opportunity Join our team as a Service Parts Analyst and play a key role in delivering an outstanding Customer Experience by managing the forecasting and inventory of parts across the entire lifecycle of our product lines. Your expertise will ensure our customers have the right parts, at the right time.     Key Responsibilities:  Maintain and grow Customer Experience by ensuring parts availability at target levels on assigned product lines. Deliver Operational Excellence through providing input to forecast and order planning on assigned product lines in order to drive appropriate inventory levels utilizing market intelligence. Engage and leverage available technologies & systems to full potential supporting the Smart Connected Aftermarket. Deliver Operational Excellence by enhancing parts availability and service efficiency, meeting customer expectations, and optimizing inventory at Deere and dealer networks. Cultivate strong partnerships with stakeholders to foster collaborative problem-solving and a culture of continuous improvement. Monitor key performance indicators to ensure decisions support long-term objectives and alignment with operational goals Leverage advanced technologies to drive growth and sustainability in the Aftermarket business. What We’re Looking For: Strong analytical abilities to drive data-based decisions Experience with inventory systems  Experience with a variety of analytical tools, methods, and formats including Excel, Power BI, and Tableau Commitment to operational excellence and improvement Passion for customer experience and teamwork Proactive problem solver with a results-driven mindset  Working independently and strong communication with local and global teams Financial acumen is a plus Experience in process improvement through automation and AI is desirable   Education / Experience:  Degree in Business, Marketing, or Supply Chain preferred.\n"
     ]
    },
    {
     "name": "stdout",
     "output_type": "stream",
     "text": [
      "Matched: ['excel', 'Power BI']\n",
      "Matched: ['Power BI']\n",
      "Matched: ['communication', 'teamwork', 'stakeholder']\n",
      "Matched: ['improve']\n",
      "Matched: ['teamwork', 'communication', 'problem-solving']\n",
      "\n",
      "===  Cover Letter ===\n",
      "\n",
      "\n",
      "Application for Service Parts Analyst within John Deere\n",
      "\n",
      "Dear Hiring Manager,\n",
      "\n",
      "I am writing to express my interest in the Service Parts Analyst position within John Deere. I am a recent Master of IT graduate in Data Analytics from Griffith University with hands-on experience in Excel, Power BI as your organization required.\n",
      "\n",
      "Below are the practical experiences I had that match your desired expertise.\n",
      "\n",
      "**As a data analyst intern at Gold Coast Health Integrated Complex Care Team**  \n",
      "I collaborated with the Allied Services Team to extract insights from healthcare data and evaluate the effectiveness of services.\n",
      "- Performed data cleansing and standardization on 260K patient admission records from multiple sources and databases, ensuring data accuracy, consistency, and completeness. Proficient in Excel, KNIME, and Power BI.\n",
      "- Developed and visualized reports, creating interactive dashboards to present clinical KPIs and trends.\n",
      "- Actively engaged with key stakeholders, including clinicians, senior data analysts, and patient feedback quality researchers, to facilitate discussions on business processes and requirements. Addressed challenges using Agile methodology, proposed technical solutions and database system recommendations, and drafted reports for the board.\n",
      "\n",
      "**Data Analyst/Assistant with Griffith University’s STEM Outreach Program**\n",
      "I built Tableau reports to highlight 18 years of long-term impact on science education achievements.\n",
      "- Assisted a non-data-driven program unit in digital transformation by designing data storage architectures and defining key indicators for efficient data collection and program evaluation.\n",
      "\n",
      "**Education and Personal Side Projects (https://github.com/fafadu) **\n",
      "\n",
      "**Volunteer & Leadership**\n",
      "Beyond my technical expertise, I actively contribute to volunteering efforts, serving as the secretary of an IT club and an online webinar organiser.\n",
      "- These roles have strengthened my communication, collaboration, and leadership skills by coordinating events, facilitating discussions, and bridging connections between students and industry professionals. Additionally, I led my team through conflicts to foster a supportive environment, ultimately winning the People's Choice Award in a Wespect hackathon.\n",
      "    \n",
      "\n",
      "    \n",
      "Temporary Graduate Visa (subclass 485) Eligible for full-time work till March 2027 or 2028 (Regional areas).\n",
      "Currently based in Brisbane/Gold Coast, but willing to relocate to any location in Australia.\n",
      "Thank you for considering my application, and I look forward to contributing to your organization.\n",
      "\n",
      "Kind regards,  \n",
      "Fafa Jinghwa Tu\n",
      "playmore0123@gmail.com | 0467707954 | fafatu.com | https://github.com/fafadu\n",
      "\n"
     ]
    },
    {
     "ename": "RuntimeError",
     "evalue": "TTF Font file not found: /usr/share/fonts/truetype/dejavu/DejaVuSans.ttf",
     "output_type": "error",
     "traceback": [
      "\u001b[0;31m---------------------------------------------------------------------------\u001b[0m",
      "\u001b[0;31mRuntimeError\u001b[0m                              Traceback (most recent call last)",
      "Cell \u001b[0;32mIn[1], line 19\u001b[0m\n\u001b[1;32m     17\u001b[0m     \u001b[38;5;28mprint\u001b[39m(\u001b[38;5;124m\"\u001b[39m\u001b[38;5;130;01m\\n\u001b[39;00m\u001b[38;5;124m===  Cover Letter ===\u001b[39m\u001b[38;5;130;01m\\n\u001b[39;00m\u001b[38;5;124m\"\u001b[39m)\n\u001b[1;32m     18\u001b[0m     \u001b[38;5;28mprint\u001b[39m(cover_letter)\n\u001b[0;32m---> 19\u001b[0m     \u001b[43msave_cover_letter\u001b[49m\u001b[43m(\u001b[49m\u001b[43mrole\u001b[49m\u001b[43m,\u001b[49m\u001b[43m \u001b[49m\u001b[43mcompany\u001b[49m\u001b[43m,\u001b[49m\u001b[43m \u001b[49m\u001b[43mcover_letter\u001b[49m\u001b[43m)\u001b[49m\n\u001b[1;32m     20\u001b[0m \u001b[38;5;28;01melse\u001b[39;00m:\n\u001b[1;32m     21\u001b[0m     \u001b[38;5;28mprint\u001b[39m(\u001b[38;5;124m\"\u001b[39m\u001b[38;5;124mInvalid input, failed to create Cover Letter\u001b[39m\u001b[38;5;124m\"\u001b[39m)\n",
      "File \u001b[0;32m~/job_application_project/./src/save_cover_letter.py:36\u001b[0m, in \u001b[0;36msave_cover_letter\u001b[0;34m(role, company, content)\u001b[0m\n\u001b[1;32m     33\u001b[0m pdf\u001b[38;5;241m.\u001b[39mset_auto_page_break(auto\u001b[38;5;241m=\u001b[39m\u001b[38;5;28;01mTrue\u001b[39;00m, margin\u001b[38;5;241m=\u001b[39m\u001b[38;5;241m15\u001b[39m)\n\u001b[1;32m     34\u001b[0m pdf\u001b[38;5;241m.\u001b[39madd_page()\n\u001b[0;32m---> 36\u001b[0m \u001b[43mpdf\u001b[49m\u001b[38;5;241;43m.\u001b[39;49m\u001b[43madd_font\u001b[49m\u001b[43m(\u001b[49m\u001b[38;5;124;43m\"\u001b[39;49m\u001b[38;5;124;43mDejaVu\u001b[39;49m\u001b[38;5;124;43m\"\u001b[39;49m\u001b[43m,\u001b[49m\u001b[43m \u001b[49m\u001b[38;5;124;43m\"\u001b[39;49m\u001b[38;5;124;43m\"\u001b[39;49m\u001b[43m,\u001b[49m\u001b[43m \u001b[49m\u001b[38;5;124;43m\"\u001b[39;49m\u001b[38;5;124;43m/usr/share/fonts/truetype/dejavu/DejaVuSans.ttf\u001b[39;49m\u001b[38;5;124;43m\"\u001b[39;49m\u001b[43m,\u001b[49m\u001b[43m \u001b[49m\u001b[43muni\u001b[49m\u001b[38;5;241;43m=\u001b[39;49m\u001b[38;5;28;43;01mTrue\u001b[39;49;00m\u001b[43m)\u001b[49m\n\u001b[1;32m     37\u001b[0m pdf\u001b[38;5;241m.\u001b[39mset_font(\u001b[38;5;124m\"\u001b[39m\u001b[38;5;124mDejaVu\u001b[39m\u001b[38;5;124m\"\u001b[39m, \u001b[38;5;124m\"\u001b[39m\u001b[38;5;124m\"\u001b[39m, \u001b[38;5;241m9\u001b[39m)\n\u001b[1;32m     40\u001b[0m \u001b[38;5;28;01mfor\u001b[39;00m line \u001b[38;5;129;01min\u001b[39;00m content\u001b[38;5;241m.\u001b[39msplit(\u001b[38;5;124m\"\u001b[39m\u001b[38;5;130;01m\\n\u001b[39;00m\u001b[38;5;124m\"\u001b[39m):\n",
      "File \u001b[0;32m/opt/conda/lib/python3.11/site-packages/fpdf/fpdf.py:469\u001b[0m, in \u001b[0;36mFPDF.add_font\u001b[0;34m(self, family, style, fname, uni)\u001b[0m\n\u001b[1;32m    467\u001b[0m     ttffilename \u001b[38;5;241m=\u001b[39m os\u001b[38;5;241m.\u001b[39mpath\u001b[38;5;241m.\u001b[39mjoin(SYSTEM_TTFONTS, fname)\n\u001b[1;32m    468\u001b[0m \u001b[38;5;28;01melse\u001b[39;00m:\n\u001b[0;32m--> 469\u001b[0m     \u001b[38;5;28;01mraise\u001b[39;00m \u001b[38;5;167;01mRuntimeError\u001b[39;00m(\u001b[38;5;124m\"\u001b[39m\u001b[38;5;124mTTF Font file not found: \u001b[39m\u001b[38;5;132;01m%s\u001b[39;00m\u001b[38;5;124m\"\u001b[39m \u001b[38;5;241m%\u001b[39m fname)\n\u001b[1;32m    470\u001b[0m name \u001b[38;5;241m=\u001b[39m \u001b[38;5;124m'\u001b[39m\u001b[38;5;124m'\u001b[39m\n\u001b[1;32m    471\u001b[0m \u001b[38;5;28;01mif\u001b[39;00m FPDF_CACHE_MODE \u001b[38;5;241m==\u001b[39m \u001b[38;5;241m0\u001b[39m:\n",
      "\u001b[0;31mRuntimeError\u001b[0m: TTF Font file not found: /usr/share/fonts/truetype/dejavu/DejaVuSans.ttf"
     ]
    }
   ],
   "source": [
    "## This is main.ipynb\n",
    "import sys\n",
    "sys.path.append(\"./src\")  # Let Python find the src module\n",
    "from cover_letter import generate_cover_letter\n",
    "from skill_matching import extract_match_skillset, extract_relevant_experiences\n",
    "from experience_data import experiences\n",
    "from src.job_input import get_job_description\n",
    "from save_cover_letter import save_cover_letter\n",
    "\n",
    "\n",
    "# Choose Job Description Source\n",
    "jdtext, role, company = get_job_description()\n",
    "\n",
    "# \n",
    "if jdtext and role and company:\n",
    "    cover_letter = generate_cover_letter(jdtext, role, company)\n",
    "    print(\"\\n===  Cover Letter ===\\n\")\n",
    "    print(cover_letter)\n",
    "    save_cover_letter(role, company, cover_letter)\n",
    "else:\n",
    "    print(\"Invalid input, failed to create Cover Letter\")\n",
    "\n",
    "cover_letter = generate_cover_letter(jdtext, role, company)\n",
    "print(cover_letter)"
   ]
  },
  {
   "cell_type": "code",
   "execution_count": null,
   "id": "e6a9c411-d3d1-4efe-a81e-9bff13909da1",
   "metadata": {},
   "outputs": [],
   "source": []
  },
  {
   "cell_type": "code",
   "execution_count": null,
   "id": "0acec7d1-bbee-4ae2-8e73-e645478f0828",
   "metadata": {},
   "outputs": [],
   "source": []
  }
 ],
 "metadata": {
  "kernelspec": {
   "display_name": "Python 3 (ipykernel)",
   "language": "python",
   "name": "python3"
  },
  "language_info": {
   "codemirror_mode": {
    "name": "ipython",
    "version": 3
   },
   "file_extension": ".py",
   "mimetype": "text/x-python",
   "name": "python",
   "nbconvert_exporter": "python",
   "pygments_lexer": "ipython3",
   "version": "3.11.11"
  }
 },
 "nbformat": 4,
 "nbformat_minor": 5
}
